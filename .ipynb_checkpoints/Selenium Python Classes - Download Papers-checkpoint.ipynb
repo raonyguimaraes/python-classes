{
 "cells": [
  {
   "cell_type": "markdown",
   "metadata": {},
   "source": [
    "# Downloading Papers from PMC"
   ]
  },
  {
   "cell_type": "markdown",
   "metadata": {},
   "source": [
    "Testing Selenium"
   ]
  },
  {
   "cell_type": "code",
   "execution_count": null,
   "metadata": {
    "collapsed": true
   },
   "outputs": [],
   "source": []
  },
  {
   "cell_type": "code",
   "execution_count": 1,
   "metadata": {},
   "outputs": [],
   "source": [
    "from selenium import webdriver\n",
    "from selenium.webdriver.common.keys import Keys\n",
    "\n",
    "driver = webdriver.Firefox()\n",
    "driver.get(\"http://www.python.org\")\n",
    "assert \"Python\" in driver.title\n",
    "elem = driver.find_element_by_name(\"q\")\n",
    "elem.clear()\n",
    "elem.send_keys(\"pycon\")\n",
    "elem.send_keys(Keys.RETURN)\n",
    "assert \"No results found.\" not in driver.page_source\n",
    "driver.close()"
   ]
  },
  {
   "cell_type": "code",
   "execution_count": null,
   "metadata": {
    "collapsed": true
   },
   "outputs": [],
   "source": [
    "Starting with PMC"
   ]
  },
  {
   "cell_type": "code",
   "execution_count": 6,
   "metadata": {
    "collapsed": true
   },
   "outputs": [],
   "source": [
    "from selenium import webdriver\n",
    "from selenium.webdriver.common.keys import Keys\n",
    "import urllib\n",
    "import time\n",
    "\n",
    "request_headers = {\n",
    "\"Accept-Language\": \"en-US,en;q=0.5\",\n",
    "\"User-Agent\": \"Mozilla/5.0 (Windows NT 10.0; WOW64; rv:40.0) Gecko/20100101 Firefox/40.0\",\n",
    "\"Accept\": \"text/html,application/xhtml+xml,application/xml;q=0.9,*/*;q=0.8\",\n",
    "\"Referer\": \"http://thewebsite.com\",\n",
    "\"Connection\": \"keep-alive\" \n",
    "}\n",
    "\n",
    "def get_article(title):\n",
    "    driver = webdriver.Firefox()\n",
    "    driver.get(\"https://www.ncbi.nlm.nih.gov/pmc/\")\n",
    "    elem = driver.find_element_by_name(\"term\")\n",
    "    elem.clear()\n",
    "    elem.send_keys(title)\n",
    "    elem.send_keys(Keys.RETURN)\n",
    "    time.sleep(10)\n",
    "    titles = driver.find_elements_by_xpath(\"//div[@class='title']\")\n",
    "    first_title = titles[0]\n",
    "    link = first_title.find_element_by_tag_name('a')\n",
    "    link.click()\n",
    "    menu =  driver.find_element_by_xpath(\"//div[@class='format-menu']\")\n",
    "    links = menu.find_elements_by_tag_name(\"a\")\n",
    "    for link in links:\n",
    "        if link.text.startswith('PDF'):\n",
    "            #download link\n",
    "            print('Found PDF!')\n",
    "            url = link.get_attribute(\"href\")\n",
    "            filename = url.split('/')[-1]\n",
    "            request = urllib.request.Request(url, headers=request_headers)\n",
    "            contents = urllib.request.urlopen(request).read()\n",
    "            with open(filename,'wb') as output:\n",
    "              output.write(contents)"
   ]
  },
  {
   "cell_type": "code",
   "execution_count": 7,
   "metadata": {},
   "outputs": [
    {
     "name": "stdout",
     "output_type": "stream",
     "text": [
      "Found PDF!\n"
     ]
    }
   ],
   "source": [
    "get_article(\"Mendel,MD PLOS\")\n",
    "print('PDF Downloaded!')"
   ]
  },
  {
   "cell_type": "code",
   "execution_count": null,
   "metadata": {
    "collapsed": true
   },
   "outputs": [],
   "source": [
    "\n",
    "\n"
   ]
  },
  {
   "cell_type": "code",
   "execution_count": null,
   "metadata": {
    "collapsed": true
   },
   "outputs": [],
   "source": []
  },
  {
   "cell_type": "code",
   "execution_count": 13,
   "metadata": {
    "collapsed": true
   },
   "outputs": [],
   "source": []
  },
  {
   "cell_type": "code",
   "execution_count": null,
   "metadata": {
    "collapsed": true
   },
   "outputs": [],
   "source": [
    "\n",
    "time.sleep(5)\n",
    "\n",
    "driver.close()"
   ]
  },
  {
   "cell_type": "code",
   "execution_count": null,
   "metadata": {
    "collapsed": true
   },
   "outputs": [],
   "source": []
  }
 ],
 "metadata": {
  "kernelspec": {
   "display_name": "Python 3",
   "language": "python",
   "name": "python3"
  },
  "language_info": {
   "codemirror_mode": {
    "name": "ipython",
    "version": 3
   },
   "file_extension": ".py",
   "mimetype": "text/x-python",
   "name": "python",
   "nbconvert_exporter": "python",
   "pygments_lexer": "ipython3",
   "version": "3.5.2"
  }
 },
 "nbformat": 4,
 "nbformat_minor": 2
}
